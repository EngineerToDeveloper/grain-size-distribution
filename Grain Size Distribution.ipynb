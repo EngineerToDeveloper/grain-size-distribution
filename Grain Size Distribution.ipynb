{
 "cells": [
  {
   "cell_type": "markdown",
   "metadata": {},
   "source": [
    "## Creat Sieve Data and Create DataFrame"
   ]
  },
  {
   "cell_type": "code",
   "execution_count": 30,
   "metadata": {},
   "outputs": [],
   "source": [
    "from pandas import DataFrame\n",
    "import pandas as pd\n",
    "import matplotlib.pyplot as plt\n",
    "\n",
    "data = {\n",
    "    \"opening\": [4.75, 2.00, 0.850, 0.425, 0.250, 0.150, 0.075, 0],\n",
    "    \"mass_retained\": [0, 17.6, 56.3, 108.2, 91.9, 94.1, 57.6, 25.0]\n",
    "}\n",
    "\n",
    "df = DataFrame(data)\n"
   ]
  },
  {
   "cell_type": "markdown",
   "metadata": {},
   "source": [
    "## Calculate Percent Finer"
   ]
  },
  {
   "cell_type": "code",
   "execution_count": 28,
   "metadata": {},
   "outputs": [
    {
     "name": "stdout",
     "output_type": "stream",
     "text": [
      "   opening  mass_retained     p_finer\n",
      "0    4.750            0.0  100.000000\n",
      "1    2.000           17.6   96.094963\n",
      "2    0.850           56.3   83.603284\n",
      "3    0.425          108.2   59.596184\n",
      "4    0.250           91.9   39.205680\n",
      "5    0.150           94.1   18.327047\n",
      "6    0.075           57.6    5.546927\n",
      "7    0.000           25.0    0.000000\n"
     ]
    }
   ],
   "source": [
    "def calculate_percent_finer(df):\n",
    "    total_mass = df.mass_retained.sum()\n",
    "    arr = []\n",
    "    for count, sieve in enumerate(df.opening.values):\n",
    "        cumulative_mass = sum([df.mass_retained.values[i] for i in range(count + 1)])\n",
    "        percent_finer = ((total_mass - cumulative_mass) / total_mass) * 100\n",
    "        arr.append(percent_finer)\n",
    "    return df.assign(p_finer = arr)\n",
    "\n",
    "print(calculate_percent_finer(df))"
   ]
  },
  {
   "cell_type": "markdown",
   "metadata": {},
   "source": [
    "## Plot Semilog Grain Size Distribution Curve"
   ]
  },
  {
   "cell_type": "code",
   "execution_count": 36,
   "metadata": {},
   "outputs": [
    {
     "data": {
      "text/plain": [
       "Text(0, 0.5, 'Percent Passing')"
      ]
     },
     "execution_count": 36,
     "metadata": {},
     "output_type": "execute_result"
    },
    {
     "data": {
      "image/png": "[encoded data removed]",
      "text/plain": [
       "<Figure size 432x288 with 1 Axes>"
      ]
     },
     "metadata": {
      "needs_background": "light"
     },
     "output_type": "display_data"
    }
   ],
   "source": [
    "%matplotlib inline\n",
    "df2 = calculate_percent_finer(df)\n",
    "plt.style.use(\"bmh\")\n",
    "plt.semilogx(df2.opening, df2.p_finer)\n",
    "plt.gca().invert_xaxis()\n",
    "plt.xlabel(\"Grain Size (mm) -- log scale\")\n",
    "plt.ylabel(\"Percent Passing\")"
   ]
  },
  {
   "cell_type": "code",
   "execution_count": null,
   "metadata": {},
   "outputs": [],
   "source": []
  }
 ],
 "metadata": {
  "kernelspec": {
   "display_name": "Python 3",
   "language": "python",
   "name": "python3"
  },
  "language_info": {
   "codemirror_mode": {
    "name": "ipython",
    "version": 3
   },
   "file_extension": ".py",
   "mimetype": "text/x-python",
   "name": "python",
   "nbconvert_exporter": "python",
   "pygments_lexer": "ipython3",
   "version": "3.8.5"
  }
 },
 "nbformat": 4,
 "nbformat_minor": 4
}
